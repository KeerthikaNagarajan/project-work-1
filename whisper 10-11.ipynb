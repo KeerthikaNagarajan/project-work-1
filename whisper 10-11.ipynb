{
 "cells": [
  {
   "cell_type": "code",
   "execution_count": 1,
   "id": "b6ba6e42-10a3-435c-8f31-abe6ad48b0a9",
   "metadata": {},
   "outputs": [
    {
     "name": "stdout",
     "output_type": "stream",
     "text": [
      "Requirement already satisfied: moviepy in c:\\users\\nkeer\\anaconda3\\lib\\site-packages (1.0.3)\n",
      "Requirement already satisfied: openai in c:\\users\\nkeer\\anaconda3\\lib\\site-packages (0.28.0)\n",
      "Requirement already satisfied: decorator<5.0,>=4.0.2 in c:\\users\\nkeer\\anaconda3\\lib\\site-packages (from moviepy) (4.4.2)\n",
      "Requirement already satisfied: tqdm<5.0,>=4.11.2 in c:\\users\\nkeer\\anaconda3\\lib\\site-packages (from moviepy) (4.66.4)\n",
      "Requirement already satisfied: requests<3.0,>=2.8.1 in c:\\users\\nkeer\\anaconda3\\lib\\site-packages (from moviepy) (2.32.2)\n",
      "Requirement already satisfied: proglog<=1.0.0 in c:\\users\\nkeer\\anaconda3\\lib\\site-packages (from moviepy) (0.1.10)\n",
      "Requirement already satisfied: numpy>=1.17.3 in c:\\users\\nkeer\\anaconda3\\lib\\site-packages (from moviepy) (1.26.4)\n",
      "Requirement already satisfied: imageio<3.0,>=2.5 in c:\\users\\nkeer\\anaconda3\\lib\\site-packages (from moviepy) (2.33.1)\n",
      "Requirement already satisfied: imageio-ffmpeg>=0.2.0 in c:\\users\\nkeer\\anaconda3\\lib\\site-packages (from moviepy) (0.5.1)\n",
      "Requirement already satisfied: aiohttp in c:\\users\\nkeer\\anaconda3\\lib\\site-packages (from openai) (3.9.5)\n",
      "Requirement already satisfied: pillow>=8.3.2 in c:\\users\\nkeer\\anaconda3\\lib\\site-packages (from imageio<3.0,>=2.5->moviepy) (10.3.0)\n",
      "Requirement already satisfied: setuptools in c:\\users\\nkeer\\anaconda3\\lib\\site-packages (from imageio-ffmpeg>=0.2.0->moviepy) (69.5.1)\n",
      "Requirement already satisfied: charset-normalizer<4,>=2 in c:\\users\\nkeer\\anaconda3\\lib\\site-packages (from requests<3.0,>=2.8.1->moviepy) (2.0.4)\n",
      "Requirement already satisfied: idna<4,>=2.5 in c:\\users\\nkeer\\anaconda3\\lib\\site-packages (from requests<3.0,>=2.8.1->moviepy) (3.7)\n",
      "Requirement already satisfied: urllib3<3,>=1.21.1 in c:\\users\\nkeer\\anaconda3\\lib\\site-packages (from requests<3.0,>=2.8.1->moviepy) (2.2.2)\n",
      "Requirement already satisfied: certifi>=2017.4.17 in c:\\users\\nkeer\\anaconda3\\lib\\site-packages (from requests<3.0,>=2.8.1->moviepy) (2024.6.2)\n",
      "Requirement already satisfied: colorama in c:\\users\\nkeer\\anaconda3\\lib\\site-packages (from tqdm<5.0,>=4.11.2->moviepy) (0.4.6)\n",
      "Requirement already satisfied: aiosignal>=1.1.2 in c:\\users\\nkeer\\anaconda3\\lib\\site-packages (from aiohttp->openai) (1.2.0)\n",
      "Requirement already satisfied: attrs>=17.3.0 in c:\\users\\nkeer\\anaconda3\\lib\\site-packages (from aiohttp->openai) (23.1.0)\n",
      "Requirement already satisfied: frozenlist>=1.1.1 in c:\\users\\nkeer\\anaconda3\\lib\\site-packages (from aiohttp->openai) (1.4.0)\n",
      "Requirement already satisfied: multidict<7.0,>=4.5 in c:\\users\\nkeer\\anaconda3\\lib\\site-packages (from aiohttp->openai) (6.0.4)\n",
      "Requirement already satisfied: yarl<2.0,>=1.0 in c:\\users\\nkeer\\anaconda3\\lib\\site-packages (from aiohttp->openai) (1.9.3)\n",
      "Requirement already satisfied: openai-whisper in c:\\users\\nkeer\\anaconda3\\lib\\site-packages (20240930)\n",
      "Requirement already satisfied: numba in c:\\users\\nkeer\\anaconda3\\lib\\site-packages (from openai-whisper) (0.59.1)\n",
      "Requirement already satisfied: numpy in c:\\users\\nkeer\\anaconda3\\lib\\site-packages (from openai-whisper) (1.26.4)\n",
      "Requirement already satisfied: torch in c:\\users\\nkeer\\anaconda3\\lib\\site-packages (from openai-whisper) (2.4.1)\n",
      "Requirement already satisfied: tqdm in c:\\users\\nkeer\\anaconda3\\lib\\site-packages (from openai-whisper) (4.66.4)\n",
      "Requirement already satisfied: more-itertools in c:\\users\\nkeer\\anaconda3\\lib\\site-packages (from openai-whisper) (10.1.0)\n",
      "Requirement already satisfied: tiktoken in c:\\users\\nkeer\\anaconda3\\lib\\site-packages (from openai-whisper) (0.8.0)\n",
      "Requirement already satisfied: llvmlite<0.43,>=0.42.0dev0 in c:\\users\\nkeer\\anaconda3\\lib\\site-packages (from numba->openai-whisper) (0.42.0)\n",
      "Requirement already satisfied: regex>=2022.1.18 in c:\\users\\nkeer\\anaconda3\\lib\\site-packages (from tiktoken->openai-whisper) (2023.10.3)\n",
      "Requirement already satisfied: requests>=2.26.0 in c:\\users\\nkeer\\anaconda3\\lib\\site-packages (from tiktoken->openai-whisper) (2.32.2)\n",
      "Requirement already satisfied: filelock in c:\\users\\nkeer\\anaconda3\\lib\\site-packages (from torch->openai-whisper) (3.13.1)\n",
      "Requirement already satisfied: typing-extensions>=4.8.0 in c:\\users\\nkeer\\anaconda3\\lib\\site-packages (from torch->openai-whisper) (4.11.0)\n",
      "Requirement already satisfied: sympy in c:\\users\\nkeer\\anaconda3\\lib\\site-packages (from torch->openai-whisper) (1.12)\n",
      "Requirement already satisfied: networkx in c:\\users\\nkeer\\anaconda3\\lib\\site-packages (from torch->openai-whisper) (3.2.1)\n",
      "Requirement already satisfied: jinja2 in c:\\users\\nkeer\\anaconda3\\lib\\site-packages (from torch->openai-whisper) (3.1.4)\n",
      "Requirement already satisfied: fsspec in c:\\users\\nkeer\\anaconda3\\lib\\site-packages (from torch->openai-whisper) (2024.3.1)\n",
      "Requirement already satisfied: setuptools in c:\\users\\nkeer\\anaconda3\\lib\\site-packages (from torch->openai-whisper) (69.5.1)\n",
      "Requirement already satisfied: colorama in c:\\users\\nkeer\\anaconda3\\lib\\site-packages (from tqdm->openai-whisper) (0.4.6)\n",
      "Requirement already satisfied: charset-normalizer<4,>=2 in c:\\users\\nkeer\\anaconda3\\lib\\site-packages (from requests>=2.26.0->tiktoken->openai-whisper) (2.0.4)\n",
      "Requirement already satisfied: idna<4,>=2.5 in c:\\users\\nkeer\\anaconda3\\lib\\site-packages (from requests>=2.26.0->tiktoken->openai-whisper) (3.7)\n",
      "Requirement already satisfied: urllib3<3,>=1.21.1 in c:\\users\\nkeer\\anaconda3\\lib\\site-packages (from requests>=2.26.0->tiktoken->openai-whisper) (2.2.2)\n",
      "Requirement already satisfied: certifi>=2017.4.17 in c:\\users\\nkeer\\anaconda3\\lib\\site-packages (from requests>=2.26.0->tiktoken->openai-whisper) (2024.6.2)\n",
      "Requirement already satisfied: MarkupSafe>=2.0 in c:\\users\\nkeer\\anaconda3\\lib\\site-packages (from jinja2->torch->openai-whisper) (2.1.3)\n",
      "Requirement already satisfied: mpmath>=0.19 in c:\\users\\nkeer\\anaconda3\\lib\\site-packages (from sympy->torch->openai-whisper) (1.3.0)\n"
     ]
    }
   ],
   "source": [
    "!pip install moviepy openai\n",
    "!pip install -U openai-whisper"
   ]
  },
  {
   "cell_type": "code",
   "execution_count": 2,
   "id": "e0eeacd2-5cd8-4f8d-97c0-ff5c6eea6b4f",
   "metadata": {},
   "outputs": [
    {
     "name": "stdout",
     "output_type": "stream",
     "text": [
      "MoviePy - Writing audio in extracted_audio.wav\n"
     ]
    },
    {
     "name": "stderr",
     "output_type": "stream",
     "text": [
      "                                                                                                                       "
     ]
    },
    {
     "name": "stdout",
     "output_type": "stream",
     "text": [
      "MoviePy - Done.\n",
      "Audio extracted successfully.\n"
     ]
    },
    {
     "name": "stderr",
     "output_type": "stream",
     "text": [
      "\r"
     ]
    }
   ],
   "source": [
    "from moviepy.editor import VideoFileClip\n",
    "\n",
    "def extract_audio_from_video(video_path, output_audio_path):\n",
    "    video = VideoFileClip(video_path)\n",
    "    video.audio.write_audiofile(output_audio_path)\n",
    "\n",
    "# Example usage\n",
    "video_path = \"video.mp4\"  # Path to your video file\n",
    "audio_path = \"extracted_audio.wav\"  # Path to save extracted audio\n",
    "extract_audio_from_video(video_path, audio_path)\n",
    "print(\"Audio extracted successfully.\")\n"
   ]
  },
  {
   "cell_type": "code",
   "execution_count": 3,
   "id": "5fd8acc1-a8cd-4d76-b92e-d3002cb61072",
   "metadata": {},
   "outputs": [
    {
     "name": "stdout",
     "output_type": "stream",
     "text": [
      "Transcription:  Test 1. The image says Apple and there is a drawing of an Apple.\n"
     ]
    }
   ],
   "source": [
    "import whisper\n",
    "\n",
    "def transcribe_audio(audio_path):\n",
    "    model = whisper.load_model(\"base\")\n",
    "    result = model.transcribe(audio_path)\n",
    "    return result['text']\n",
    "\n",
    "# Example usage\n",
    "transcription = transcribe_audio(audio_path)\n",
    "print(\"Transcription:\", transcription)\n"
   ]
  }
 ],
 "metadata": {
  "kernelspec": {
   "display_name": "Python 3 (ipykernel)",
   "language": "python",
   "name": "python3"
  },
  "language_info": {
   "codemirror_mode": {
    "name": "ipython",
    "version": 3
   },
   "file_extension": ".py",
   "mimetype": "text/x-python",
   "name": "python",
   "nbconvert_exporter": "python",
   "pygments_lexer": "ipython3",
   "version": "3.12.4"
  }
 },
 "nbformat": 4,
 "nbformat_minor": 5
}
